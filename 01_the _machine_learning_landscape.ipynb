{
 "cells": [
  {
   "metadata": {},
   "cell_type": "markdown",
   "source": "## CHAPTER 1 - The Machine Learning Landscape",
   "id": "b4fc95dc8531089c"
  },
  {
   "metadata": {},
   "cell_type": "markdown",
   "source": "### Notebook Setup",
   "id": "7744aa93ca407743"
  },
  {
   "cell_type": "code",
   "id": "initial_id",
   "metadata": {
    "collapsed": true,
    "ExecuteTime": {
     "end_time": "2024-11-30T02:09:39.409642Z",
     "start_time": "2024-11-30T02:09:35.275759Z"
    }
   },
   "source": [
    "import sys\n",
    "import matplotlib.pyplot as plt\n",
    "import numpy as np\n",
    "import pandas as pd\n",
    "import sklearn\n",
    "import seaborn as sns\n",
    "\n",
    "from packaging import version\n",
    "from sklearn.linear_model import LinearRegression\n",
    "from sklearn.neighbors import KNeighborsRegressor"
   ],
   "outputs": [],
   "execution_count": 1
  },
  {
   "metadata": {
    "ExecuteTime": {
     "end_time": "2024-11-30T02:09:39.416781Z",
     "start_time": "2024-11-30T02:09:39.415043Z"
    }
   },
   "cell_type": "code",
   "source": [
    "assert sys.version_info >= (3, 9)\n",
    "assert version.parse(sklearn.__version__) >= version.parse(\"1.2.0\")"
   ],
   "id": "c292dc7944d8d6d9",
   "outputs": [],
   "execution_count": 2
  },
  {
   "metadata": {
    "ExecuteTime": {
     "end_time": "2024-11-30T02:09:39.420439Z",
     "start_time": "2024-11-30T02:09:39.418950Z"
    }
   },
   "cell_type": "code",
   "source": "np.random.seed(42)",
   "id": "9daea33c0789cd00",
   "outputs": [],
   "execution_count": 3
  },
  {
   "metadata": {
    "ExecuteTime": {
     "end_time": "2024-11-30T02:09:39.424187Z",
     "start_time": "2024-11-30T02:09:39.422550Z"
    }
   },
   "cell_type": "code",
   "source": [
    "plt.rc('font', size=12)\n",
    "plt.rc('axes', labelsize=14, titlesize=14)\n",
    "plt.rc('legend', fontsize=12)\n",
    "plt.rc('xtick', labelsize=10)\n",
    "plt.rc('ytick', labelsize=10)"
   ],
   "id": "74a093aef7db105f",
   "outputs": [],
   "execution_count": 4
  },
  {
   "metadata": {},
   "cell_type": "markdown",
   "source": "#### Example 1-1 Training and running linear model using Scikit-Learn",
   "id": "acf1827e6ca1fecf"
  },
  {
   "metadata": {
    "ExecuteTime": {
     "end_time": "2024-11-30T02:09:39.736786Z",
     "start_time": "2024-11-30T02:09:39.477333Z"
    }
   },
   "cell_type": "code",
   "source": [
    "data_root = \"https://github.com/ageron/data/raw/main\"\n",
    "data_file = \"lifesat/lifesat.csv\"\n",
    "\n",
    "# Reading data using pandas\n",
    "data = pd.read_csv(f\"{data_root}/{data_file}\")"
   ],
   "id": "3896098333b2a2d7",
   "outputs": [],
   "execution_count": 5
  },
  {
   "metadata": {
    "ExecuteTime": {
     "end_time": "2024-11-30T02:09:39.752831Z",
     "start_time": "2024-11-30T02:09:39.746656Z"
    }
   },
   "cell_type": "code",
   "source": "data.describe()",
   "id": "b5d581df26577d80",
   "outputs": [
    {
     "data": {
      "text/plain": [
       "       GDP per capita (USD)  Life satisfaction\n",
       "count             27.000000          27.000000\n",
       "mean           41564.521771           6.566667\n",
       "std             9631.452319           0.765607\n",
       "min            26456.387938           5.400000\n",
       "25%            33938.289305           5.900000\n",
       "50%            41627.129269           6.800000\n",
       "75%            49690.580269           7.300000\n",
       "max            60235.728492           7.600000"
      ],
      "text/html": [
       "<div>\n",
       "<style scoped>\n",
       "    .dataframe tbody tr th:only-of-type {\n",
       "        vertical-align: middle;\n",
       "    }\n",
       "\n",
       "    .dataframe tbody tr th {\n",
       "        vertical-align: top;\n",
       "    }\n",
       "\n",
       "    .dataframe thead th {\n",
       "        text-align: right;\n",
       "    }\n",
       "</style>\n",
       "<table border=\"1\" class=\"dataframe\">\n",
       "  <thead>\n",
       "    <tr style=\"text-align: right;\">\n",
       "      <th></th>\n",
       "      <th>GDP per capita (USD)</th>\n",
       "      <th>Life satisfaction</th>\n",
       "    </tr>\n",
       "  </thead>\n",
       "  <tbody>\n",
       "    <tr>\n",
       "      <th>count</th>\n",
       "      <td>27.000000</td>\n",
       "      <td>27.000000</td>\n",
       "    </tr>\n",
       "    <tr>\n",
       "      <th>mean</th>\n",
       "      <td>41564.521771</td>\n",
       "      <td>6.566667</td>\n",
       "    </tr>\n",
       "    <tr>\n",
       "      <th>std</th>\n",
       "      <td>9631.452319</td>\n",
       "      <td>0.765607</td>\n",
       "    </tr>\n",
       "    <tr>\n",
       "      <th>min</th>\n",
       "      <td>26456.387938</td>\n",
       "      <td>5.400000</td>\n",
       "    </tr>\n",
       "    <tr>\n",
       "      <th>25%</th>\n",
       "      <td>33938.289305</td>\n",
       "      <td>5.900000</td>\n",
       "    </tr>\n",
       "    <tr>\n",
       "      <th>50%</th>\n",
       "      <td>41627.129269</td>\n",
       "      <td>6.800000</td>\n",
       "    </tr>\n",
       "    <tr>\n",
       "      <th>75%</th>\n",
       "      <td>49690.580269</td>\n",
       "      <td>7.300000</td>\n",
       "    </tr>\n",
       "    <tr>\n",
       "      <th>max</th>\n",
       "      <td>60235.728492</td>\n",
       "      <td>7.600000</td>\n",
       "    </tr>\n",
       "  </tbody>\n",
       "</table>\n",
       "</div>"
      ]
     },
     "execution_count": 6,
     "metadata": {},
     "output_type": "execute_result"
    }
   ],
   "execution_count": 6
  },
  {
   "metadata": {
    "ExecuteTime": {
     "end_time": "2024-11-30T02:09:39.776755Z",
     "start_time": "2024-11-30T02:09:39.774553Z"
    }
   },
   "cell_type": "code",
   "source": [
    "# Split Data into features (X) and label (Y)\n",
    "X = data[[\"GDP per capita (USD)\"]].values\n",
    "y = data[[\"Life satisfaction\"]].values"
   ],
   "id": "9c45dbf7bebda819",
   "outputs": [],
   "execution_count": 7
  },
  {
   "metadata": {
    "ExecuteTime": {
     "end_time": "2024-11-30T02:09:39.852401Z",
     "start_time": "2024-11-30T02:09:39.785939Z"
    }
   },
   "cell_type": "code",
   "source": [
    "# Set a specific style\n",
    "sns.set_style(\"whitegrid\")\n",
    "\n",
    "# Create scatter plot\n",
    "sns.scatterplot(data=data,\n",
    "                x=\"GDP per capita (USD)\",\n",
    "                y=\"Life satisfaction\")\n",
    "\n",
    "# Set axis limits\n",
    "plt.xlim(23_500, 62_500)\n",
    "plt.ylim(4, 9)\n",
    "\n",
    "# Add grid\n",
    "plt.grid(True)\n",
    "\n",
    "# Show plot\n",
    "plt.show()\n"
   ],
   "id": "8cef541670dcf5e5",
   "outputs": [
    {
     "data": {
      "text/plain": [
       "<Figure size 640x480 with 1 Axes>"
      ],
      "image/png": "[encoded data removed]"
     },
     "metadata": {},
     "output_type": "display_data"
    }
   ],
   "execution_count": 8
  },
  {
   "metadata": {},
   "cell_type": "markdown",
   "source": "##### Using LinearRegression",
   "id": "8748f55419cce71d"
  },
  {
   "metadata": {
    "ExecuteTime": {
     "end_time": "2024-11-30T02:09:39.871510Z",
     "start_time": "2024-11-30T02:09:39.865928Z"
    }
   },
   "cell_type": "code",
   "source": [
    "# Select a linear model\n",
    "model = LinearRegression()\n",
    "\n",
    "# Train the model\n",
    "model.fit(X, y)\n",
    "\n",
    "# Make a prediction for Cyprus\n",
    "X_new = [[37_655.2]]            # Cyprus' GDP per capita in 2020\n",
    "print(model.predict(X_new))     # outputs [[6.30165767]]"
   ],
   "id": "133f7b255a50ec43",
   "outputs": [
    {
     "name": "stdout",
     "output_type": "stream",
     "text": [
      "[[6.30165767]]\n"
     ]
    }
   ],
   "execution_count": 9
  },
  {
   "metadata": {},
   "cell_type": "markdown",
   "source": "##### Using KNeighborsRegressor",
   "id": "580e18ae78f523a9"
  },
  {
   "metadata": {
    "ExecuteTime": {
     "end_time": "2024-11-30T02:09:39.939379Z",
     "start_time": "2024-11-30T02:09:39.936767Z"
    }
   },
   "cell_type": "code",
   "source": [
    "model = KNeighborsRegressor(n_neighbors=3)\n",
    "model.fit(X, y)\n",
    "print(model.predict(X_new)) "
   ],
   "id": "84f26bf8c2f7d6ff",
   "outputs": [
    {
     "name": "stdout",
     "output_type": "stream",
     "text": [
      "[[6.33333333]]\n"
     ]
    }
   ],
   "execution_count": 10
  }
 ],
 "metadata": {
  "kernelspec": {
   "display_name": "Python 3",
   "language": "python",
   "name": "python3"
  },
  "language_info": {
   "codemirror_mode": {
    "name": "ipython",
    "version": 2
   },
   "file_extension": ".py",
   "mimetype": "text/x-python",
   "name": "python",
   "nbconvert_exporter": "python",
   "pygments_lexer": "ipython2",
   "version": "2.7.6"
  }
 },
 "nbformat": 4,
 "nbformat_minor": 5
}
